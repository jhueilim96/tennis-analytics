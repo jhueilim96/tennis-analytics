{
 "cells": [
  {
   "cell_type": "code",
   "execution_count": 2,
   "metadata": {},
   "outputs": [],
   "source": [
    "import duckdb\n",
    "from pathlib import Path"
   ]
  },
  {
   "cell_type": "code",
   "execution_count": 4,
   "metadata": {},
   "outputs": [],
   "source": [
    "data_folder = Path().cwd().parent / \"data\"\n",
    "db_path = Path().cwd().parent / 'ta.duckdb'"
   ]
  },
  {
   "cell_type": "code",
   "execution_count": 5,
   "metadata": {},
   "outputs": [],
   "source": [
    "conn = duckdb.connect(str(db_path))"
   ]
  },
  {
   "cell_type": "code",
   "execution_count": 35,
   "metadata": {},
   "outputs": [
    {
     "data": {
      "text/plain": [
       "┌──────────┬─────────┬──────────────────────┬──────────────────────┬───────────────────────────────────────┬───────────┐\n",
       "│ database │ schema  │         name         │     column_names     │             column_types              │ temporary │\n",
       "│ varchar  │ varchar │       varchar        │      varchar[]       │               varchar[]               │  boolean  │\n",
       "├──────────┼─────────┼──────────────────────┼──────────────────────┼───────────────────────────────────────┼───────────┤\n",
       "│ ta       │ main    │ raw_atp_matches      │ [tourney_id, tourn…  │ [VARCHAR, VARCHAR, VARCHAR, BIGINT,…  │ false     │\n",
       "│ ta       │ main    │ raw_match_date_auo…  │ [Date, Time, Playe…  │ [BIGINT, VARCHAR, VARCHAR, VARCHAR]   │ false     │\n",
       "│ ta       │ main    │ raw_match_date_rg    │ [Date, Timestamp, …  │ [BIGINT, VARCHAR, VARCHAR, VARCHAR]   │ false     │\n",
       "│ ta       │ main    │ raw_match_date_uso…  │ [Date, Timestamp, …  │ [BIGINT, VARCHAR, VARCHAR, VARCHAR]   │ false     │\n",
       "│ ta       │ main    │ raw_match_date_uso…  │ [Round,Time,Player…  │ [VARCHAR]                             │ false     │\n",
       "│ ta       │ main    │ raw_match_date_wimby │ [Stage, Date, Time…  │ [VARCHAR, BIGINT, VARCHAR, VARCHAR,…  │ false     │\n",
       "│ ta       │ main    │ raw_match_date_wim…  │ [Date, Time, Playe…  │ [BIGINT, VARCHAR, VARCHAR, VARCHAR,…  │ false     │\n",
       "│ ta       │ main    │ raw_weather_london   │ [time, temperature…  │ [VARCHAR, DOUBLE, BIGINT, DOUBLE, B…  │ false     │\n",
       "│ ta       │ main    │ raw_weather_melbou…  │ [time, temperature…  │ [VARCHAR, DOUBLE, BIGINT, DOUBLE, B…  │ false     │\n",
       "│ ta       │ main    │ raw_weather_ny       │ [time, temperature…  │ [VARCHAR, DOUBLE, BIGINT, DOUBLE, B…  │ false     │\n",
       "│ ta       │ main    │ raw_weather_paris    │ [time, temperature…  │ [VARCHAR, DOUBLE, BIGINT, DOUBLE, B…  │ false     │\n",
       "│ ta       │ main    │ tournaments          │ [tourney_id, tourn…  │ [VARCHAR, VARCHAR, VARCHAR]           │ false     │\n",
       "├──────────┴─────────┴──────────────────────┴──────────────────────┴───────────────────────────────────────┴───────────┤\n",
       "│ 12 rows                                                                                                    6 columns │\n",
       "└──────────────────────────────────────────────────────────────────────────────────────────────────────────────────────┘"
      ]
     },
     "execution_count": 35,
     "metadata": {},
     "output_type": "execute_result"
    }
   ],
   "source": [
    "conn.sql('show all tables')"
   ]
  },
  {
   "cell_type": "markdown",
   "metadata": {},
   "source": [
    "#### Load Match KPI Tables"
   ]
  },
  {
   "cell_type": "code",
   "execution_count": 12,
   "metadata": {},
   "outputs": [],
   "source": [
    "conn.sql(\"\"\"\n",
    "create or replace table raw_atp_matches as\n",
    "select * from read_csv_auto(?)\n",
    "\"\"\", params=[str(data_folder / \"atp_matches_2023.csv\")])"
   ]
  },
  {
   "cell_type": "code",
   "execution_count": 17,
   "metadata": {},
   "outputs": [
    {
     "data": {
      "text/plain": [
       "┌────────────┬──────────────┬─────────┬───┬─────────────┬────────────────────┬────────────┬───────────────────┐\n",
       "│ tourney_id │ tourney_name │ surface │ … │ winner_rank │ winner_rank_points │ loser_rank │ loser_rank_points │\n",
       "│  varchar   │   varchar    │ varchar │   │    int64    │       int64        │   int64    │       int64       │\n",
       "├────────────┼──────────────┼─────────┼───┼─────────────┼────────────────────┼────────────┼───────────────────┤\n",
       "│ 2023-9900  │ United Cup   │ Hard    │ … │           9 │               3355 │         16 │              2375 │\n",
       "│ 2023-9900  │ United Cup   │ Hard    │ … │          19 │               2000 │         23 │              1865 │\n",
       "│ 2023-9900  │ United Cup   │ Hard    │ … │           9 │               3355 │         10 │              2905 │\n",
       "├────────────┴──────────────┴─────────┴───┴─────────────┴────────────────────┴────────────┴───────────────────┤\n",
       "│ 3 rows                                                                                 49 columns (7 shown) │\n",
       "└─────────────────────────────────────────────────────────────────────────────────────────────────────────────┘"
      ]
     },
     "execution_count": 17,
     "metadata": {},
     "output_type": "execute_result"
    }
   ],
   "source": [
    "conn.sql('SELECT * FROM raw_atp_matches LIMIT 3')"
   ]
  },
  {
   "cell_type": "markdown",
   "metadata": {},
   "source": [
    "#### Load Match Date Time"
   ]
  },
  {
   "cell_type": "code",
   "execution_count": 19,
   "metadata": {},
   "outputs": [],
   "source": [
    "conn.sql(\"\"\"\n",
    "create or replace table raw_match_date_auopen as\n",
    "select * from read_csv_auto(?)\n",
    "\"\"\", params=[ str(data_folder / \"auopen.csv\")])"
   ]
  },
  {
   "cell_type": "code",
   "execution_count": 20,
   "metadata": {},
   "outputs": [],
   "source": [
    "conn.sql(\"\"\"\n",
    "create or replace table raw_match_date_rg as\n",
    "select * from read_csv_auto(?)\n",
    "\"\"\", params=[ str(data_folder / \"rg.csv\")])"
   ]
  },
  {
   "cell_type": "code",
   "execution_count": 21,
   "metadata": {},
   "outputs": [],
   "source": [
    "conn.sql(\"\"\"\n",
    "create or replace table raw_match_date_usopen as\n",
    "select * from read_csv_auto(?)\n",
    "\"\"\", params=[ str(data_folder / \"usopen.csv\")])"
   ]
  },
  {
   "cell_type": "code",
   "execution_count": 28,
   "metadata": {},
   "outputs": [],
   "source": [
    "conn.sql(\"\"\"\n",
    "create or replace table raw_match_date_usopen2 as\n",
    "select * from read_csv_auto(?, header=True)\n",
    "\"\"\", params=[ str(data_folder / \"usopen2.csv\")])"
   ]
  },
  {
   "cell_type": "code",
   "execution_count": 23,
   "metadata": {},
   "outputs": [],
   "source": [
    "conn.sql(\"\"\"\n",
    "create or replace table raw_match_date_wimby as\n",
    "select * from read_csv_auto(?)\n",
    "\"\"\", params=[ str(data_folder / \"wimby.csv\")])"
   ]
  },
  {
   "cell_type": "code",
   "execution_count": 24,
   "metadata": {},
   "outputs": [],
   "source": [
    "conn.sql(\"\"\"\n",
    "create or replace table raw_match_date_wimby2 as\n",
    "select * from read_csv_auto(?)\n",
    "\"\"\", params=[ str(data_folder / \"wimby2.csv\")])"
   ]
  },
  {
   "cell_type": "markdown",
   "metadata": {},
   "source": [
    "#### Load Weather Data"
   ]
  },
  {
   "cell_type": "code",
   "execution_count": 30,
   "metadata": {},
   "outputs": [],
   "source": [
    "conn.sql(\"\"\"\n",
    "create or replace table raw_weather_melbourne as\n",
    "select * from read_csv_auto(?)\n",
    "\"\"\", params=[ str(data_folder / \"open-meteo-37.79S144.94E30m - Melbourne.csv\")])"
   ]
  },
  {
   "cell_type": "code",
   "execution_count": 31,
   "metadata": {},
   "outputs": [],
   "source": [
    "conn.sql(\"\"\"\n",
    "create or replace table raw_weather_ny as\n",
    "select * from read_csv_auto(?)\n",
    "\"\"\", params=[ str(data_folder / \"open-meteo-40.74N73.79W6m - New York.csv\")])"
   ]
  },
  {
   "cell_type": "code",
   "execution_count": 32,
   "metadata": {},
   "outputs": [],
   "source": [
    "conn.sql(\"\"\"\n",
    "create or replace table raw_weather_paris as\n",
    "select * from read_csv_auto(?)\n",
    "\"\"\", params=[ str(data_folder / \"open-meteo-48.82N2.29E40m - Paris.csv\")])"
   ]
  },
  {
   "cell_type": "code",
   "execution_count": 33,
   "metadata": {},
   "outputs": [],
   "source": [
    "conn.sql(\"\"\"\n",
    "create or replace table raw_weather_london as\n",
    "select * from read_csv_auto(?)\n",
    "\"\"\", params=[ str(data_folder / \"open-meteo-51.42N0.16W34m - London.csv\")])"
   ]
  }
 ],
 "metadata": {
  "kernelspec": {
   "display_name": ".venv",
   "language": "python",
   "name": "python3"
  },
  "language_info": {
   "codemirror_mode": {
    "name": "ipython",
    "version": 3
   },
   "file_extension": ".py",
   "mimetype": "text/x-python",
   "name": "python",
   "nbconvert_exporter": "python",
   "pygments_lexer": "ipython3",
   "version": "3.10.13"
  }
 },
 "nbformat": 4,
 "nbformat_minor": 2
}
